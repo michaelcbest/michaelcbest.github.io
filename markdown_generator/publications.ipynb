{
 "cells": [
  {
   "cell_type": "markdown",
   "metadata": {
    "deletable": true,
    "editable": true
   },
   "source": [
    "# Publications markdown generator for academicpages\n",
    "\n",
    "Takes a TSV of publications with metadata and converts them for use with [academicpages.github.io](academicpages.github.io). This is an interactive Jupyter notebook ([see more info here](http://jupyter-notebook-beginner-guide.readthedocs.io/en/latest/what_is_jupyter.html)). The core python code is also in `publications.py`. Run either from the `markdown_generator` folder after replacing `publications.tsv` with one containing your data.\n",
    "\n",
    "TODO: Make this work with BibTex and other databases of citations, rather than Stuart's non-standard TSV format and citation style.\n"
   ]
  },
  {
   "cell_type": "markdown",
   "metadata": {},
   "source": [
    "## Data format\n",
    "\n",
    "The TSV needs to have the following columns: pub_date, title, venue, excerpt, citation, site_url, and paper_url, with a header at the top. \n",
    "\n",
    "- `excerpt` and `paper_url` can be blank, but the others must have values. \n",
    "- `pub_date` must be formatted as YYYY-MM-DD.\n",
    "- `url_slug` will be the descriptive part of the .md file and the permalink URL for the page about the paper. The .md file will be `YYYY-MM-DD-[url_slug].md` and the permalink will be `https://[yourdomain]/publications/YYYY-MM-DD-[url_slug]`\n",
    "\n",
    "This is how the raw file looks (it doesn't look pretty, use a spreadsheet or other program to edit and create)."
   ]
  },
  {
   "cell_type": "code",
   "execution_count": null,
   "metadata": {
    "collapsed": false
   },
   "outputs": [
    {
     "ename": "",
     "evalue": "",
     "output_type": "error",
     "traceback": [
      "\u001b[1;31mRunning cells with 'Python 3.9.6' requires the ipykernel package.\n",
      "\u001b[1;31mRun the following command to install 'ipykernel' into the Python environment. \n",
      "\u001b[1;31mCommand: '/usr/bin/python3 -m pip install ipykernel -U --user --force-reinstall'"
     ]
    }
   ],
   "source": [
    "!cat publications.tsv"
   ]
  },
  {
   "cell_type": "markdown",
   "metadata": {},
   "source": [
    "## Import pandas\n",
    "\n",
    "We are using the very handy pandas library for dataframes."
   ]
  },
  {
   "cell_type": "code",
   "execution_count": 130,
   "metadata": {
    "collapsed": true,
    "deletable": true,
    "editable": true
   },
   "outputs": [],
   "source": [
    "import pandas as pd"
   ]
  },
  {
   "cell_type": "markdown",
   "metadata": {},
   "source": [
    "## Import TSV\n",
    "\n",
    "Pandas makes this easy with the read_csv function. We are using a TSV, so we specify the separator as a tab, or `\\t`.\n",
    "\n",
    "I found it important to put this data in a tab-separated values format, because there are a lot of commas in this kind of data and comma-separated values can get messed up. However, you can modify the import statement, as pandas also has read_excel(), read_json(), and others."
   ]
  },
  {
   "cell_type": "code",
   "execution_count": 144,
   "metadata": {
    "collapsed": false,
    "deletable": true,
    "editable": true
   },
   "outputs": [
    {
     "data": {
      "text/html": [
       "<div>\n",
       "<style scoped>\n",
       "    .dataframe tbody tr th:only-of-type {\n",
       "        vertical-align: middle;\n",
       "    }\n",
       "\n",
       "    .dataframe tbody tr th {\n",
       "        vertical-align: top;\n",
       "    }\n",
       "\n",
       "    .dataframe thead th {\n",
       "        text-align: right;\n",
       "    }\n",
       "</style>\n",
       "<table border=\"1\" class=\"dataframe\">\n",
       "  <thead>\n",
       "    <tr style=\"text-align: right;\">\n",
       "      <th></th>\n",
       "      <th>pub_date</th>\n",
       "      <th>title</th>\n",
       "      <th>coauthors</th>\n",
       "      <th>journal</th>\n",
       "      <th>venue</th>\n",
       "      <th>excerpt</th>\n",
       "      <th>url_slug</th>\n",
       "      <th>paper_url</th>\n",
       "      <th>slides_url</th>\n",
       "      <th>category</th>\n",
       "    </tr>\n",
       "  </thead>\n",
       "  <tbody>\n",
       "    <tr>\n",
       "      <th>0</th>\n",
       "      <td>2023-08-01</td>\n",
       "      <td>Individuals and Organizations as Sources of St...</td>\n",
       "      <td>Jonas Hjort and David Szakonyi</td>\n",
       "      <td>American Economic Review</td>\n",
       "      <td>113(8), 2121-2167</td>\n",
       "      <td>Bureaucrats implement policy. How important ar...</td>\n",
       "      <td>bhs_state_effectiveness</td>\n",
       "      <td>http://michaelcbest.github.io/files/BestHjortS...</td>\n",
       "      <td>NaN</td>\n",
       "      <td>published</td>\n",
       "    </tr>\n",
       "    <tr>\n",
       "      <th>1</th>\n",
       "      <td>2021-08-19</td>\n",
       "      <td>The Allocation of Authority in Organizations: ...</td>\n",
       "      <td>Oriana Bandiera, Adnan Khan, and Andrea Prat</td>\n",
       "      <td>Quarterly Journal of Economics</td>\n",
       "      <td>136(4), 2195--2242</td>\n",
       "      <td>We design a field experiment to study how the ...</td>\n",
       "      <td>bbkp_procurement</td>\n",
       "      <td>http://michaelcbest.github.io/files/BBKP_Autho...</td>\n",
       "      <td>NaN</td>\n",
       "      <td>published</td>\n",
       "    </tr>\n",
       "    <tr>\n",
       "      <th>2</th>\n",
       "      <td>2017-06-24</td>\n",
       "      <td>Housing Market Responses to Transaction Taxes:...</td>\n",
       "      <td>Henrik Kleven</td>\n",
       "      <td>Review of Economic Studies</td>\n",
       "      <td>85(1), 157-193</td>\n",
       "      <td>We investigate housing market responses to tra...</td>\n",
       "      <td>bk_stampduty</td>\n",
       "      <td>http://michaelcbest.github.io/files/best-kleve...</td>\n",
       "      <td>NaN</td>\n",
       "      <td>published</td>\n",
       "    </tr>\n",
       "    <tr>\n",
       "      <th>3</th>\n",
       "      <td>2020-03-01</td>\n",
       "      <td>Estimating the Elasticity of Intertemporal Sub...</td>\n",
       "      <td>James Cloyne, Ethan Elzetzki, and Henrik Kleven</td>\n",
       "      <td>Review of Economic Studies</td>\n",
       "      <td>87(2), 656-690</td>\n",
       "      <td>Using a novel source of quasi-experimental var...</td>\n",
       "      <td>bcik_mortgagenotches</td>\n",
       "      <td>http://michaelcbest.github.io/files/BCIK_Mortg...</td>\n",
       "      <td>NaN</td>\n",
       "      <td>published</td>\n",
       "    </tr>\n",
       "    <tr>\n",
       "      <th>4</th>\n",
       "      <td>2015-12-01</td>\n",
       "      <td>Production versus Revenue Efficiency with Limi...</td>\n",
       "      <td>Anne Brockmeyer, Henrik Kleven, Johannes Spinn...</td>\n",
       "      <td>Journal of Political Economy</td>\n",
       "      <td>123(6), 1311-1355</td>\n",
       "      <td>To fight evasion, many developing countries us...</td>\n",
       "      <td>bbksw_prodrevefficiency</td>\n",
       "      <td>http://michaelcbest.github.io/files/BestEtAl_P...</td>\n",
       "      <td>NaN</td>\n",
       "      <td>published</td>\n",
       "    </tr>\n",
       "    <tr>\n",
       "      <th>5</th>\n",
       "      <td>2014-09-30</td>\n",
       "      <td>Salary Misreporting and the Role of Firms in W...</td>\n",
       "      <td>NaN</td>\n",
       "      <td>NaN</td>\n",
       "      <td>NaN</td>\n",
       "      <td>This paper exploits employee-employer matched ...</td>\n",
       "      <td>salarymisreporting</td>\n",
       "      <td>http://michaelcbest.github.io/files/Best_Pakis...</td>\n",
       "      <td>NaN</td>\n",
       "      <td>working</td>\n",
       "    </tr>\n",
       "    <tr>\n",
       "      <th>6</th>\n",
       "      <td>2013-08-31</td>\n",
       "      <td>Optimal Income Taxation with Career Effects of...</td>\n",
       "      <td>Henrik Kleven</td>\n",
       "      <td>NaN</td>\n",
       "      <td>NaN</td>\n",
       "      <td>The literature on optimal income taxation assu...</td>\n",
       "      <td>taxcareerconcerns</td>\n",
       "      <td>http://michaelcbest.github.io/files/best-kleve...</td>\n",
       "      <td>NaN</td>\n",
       "      <td>working</td>\n",
       "    </tr>\n",
       "    <tr>\n",
       "      <th>7</th>\n",
       "      <td>2023-01-01</td>\n",
       "      <td>Sanitation and property tax compliance: Analyz...</td>\n",
       "      <td>Evan Plous Kresch, Mark Walker, Fran&amp;ccedil;oi...</td>\n",
       "      <td>Joural of Development Economics</td>\n",
       "      <td>160, 102954</td>\n",
       "      <td>This paper investigates the role that sanitati...</td>\n",
       "      <td>kwbgn_sanitation</td>\n",
       "      <td>http://michaelcbest.github.io/files/KreschWalk...</td>\n",
       "      <td>NaN</td>\n",
       "      <td>published</td>\n",
       "    </tr>\n",
       "    <tr>\n",
       "      <th>8</th>\n",
       "      <td>2023-07-31</td>\n",
       "      <td>Government Analytics Using Administrative Case...</td>\n",
       "      <td>Alessandra Fenizia, and Adnan Khan</td>\n",
       "      <td>Chapter 15 in The Government Analytics Handboo...</td>\n",
       "      <td>edited by Daniel Rogger and Christian Schuster...</td>\n",
       "      <td>Measuring the performance of government agenci...</td>\n",
       "      <td>bfk_analytics</td>\n",
       "      <td>http://michaelcbest.github.io/files/GAH-CHAPTE...</td>\n",
       "      <td>NaN</td>\n",
       "      <td>bkchap</td>\n",
       "    </tr>\n",
       "    <tr>\n",
       "      <th>9</th>\n",
       "      <td>2024-10-01</td>\n",
       "      <td>Greener on the Other Side</td>\n",
       "      <td>person1</td>\n",
       "      <td>NaN</td>\n",
       "      <td>NaN</td>\n",
       "      <td>NaN</td>\n",
       "      <td>bcgknz_inequity</td>\n",
       "      <td>http://michaelcbest.github.io/files/GAH-CHAPTE...</td>\n",
       "      <td>NaN</td>\n",
       "      <td>wip</td>\n",
       "    </tr>\n",
       "  </tbody>\n",
       "</table>\n",
       "</div>"
      ],
      "text/plain": [
       "     pub_date                                              title  \\\n",
       "0  2023-08-01  Individuals and Organizations as Sources of St...   \n",
       "1  2021-08-19  The Allocation of Authority in Organizations: ...   \n",
       "2  2017-06-24  Housing Market Responses to Transaction Taxes:...   \n",
       "3  2020-03-01  Estimating the Elasticity of Intertemporal Sub...   \n",
       "4  2015-12-01  Production versus Revenue Efficiency with Limi...   \n",
       "5  2014-09-30  Salary Misreporting and the Role of Firms in W...   \n",
       "6  2013-08-31  Optimal Income Taxation with Career Effects of...   \n",
       "7  2023-01-01  Sanitation and property tax compliance: Analyz...   \n",
       "8  2023-07-31  Government Analytics Using Administrative Case...   \n",
       "9  2024-10-01                          Greener on the Other Side   \n",
       "\n",
       "                                           coauthors  \\\n",
       "0                     Jonas Hjort and David Szakonyi   \n",
       "1       Oriana Bandiera, Adnan Khan, and Andrea Prat   \n",
       "2                                      Henrik Kleven   \n",
       "3    James Cloyne, Ethan Elzetzki, and Henrik Kleven   \n",
       "4  Anne Brockmeyer, Henrik Kleven, Johannes Spinn...   \n",
       "5                                                NaN   \n",
       "6                                      Henrik Kleven   \n",
       "7  Evan Plous Kresch, Mark Walker, Fran&ccedil;oi...   \n",
       "8                 Alessandra Fenizia, and Adnan Khan   \n",
       "9                                            person1   \n",
       "\n",
       "                                             journal  \\\n",
       "0                           American Economic Review   \n",
       "1                     Quarterly Journal of Economics   \n",
       "2                         Review of Economic Studies   \n",
       "3                         Review of Economic Studies   \n",
       "4                       Journal of Political Economy   \n",
       "5                                                NaN   \n",
       "6                                                NaN   \n",
       "7                    Joural of Development Economics   \n",
       "8  Chapter 15 in The Government Analytics Handboo...   \n",
       "9                                                NaN   \n",
       "\n",
       "                                               venue  \\\n",
       "0                                  113(8), 2121-2167   \n",
       "1                                 136(4), 2195--2242   \n",
       "2                                     85(1), 157-193   \n",
       "3                                     87(2), 656-690   \n",
       "4                                  123(6), 1311-1355   \n",
       "5                                                NaN   \n",
       "6                                                NaN   \n",
       "7                                        160, 102954   \n",
       "8  edited by Daniel Rogger and Christian Schuster...   \n",
       "9                                                NaN   \n",
       "\n",
       "                                             excerpt                 url_slug  \\\n",
       "0  Bureaucrats implement policy. How important ar...  bhs_state_effectiveness   \n",
       "1  We design a field experiment to study how the ...         bbkp_procurement   \n",
       "2  We investigate housing market responses to tra...             bk_stampduty   \n",
       "3  Using a novel source of quasi-experimental var...     bcik_mortgagenotches   \n",
       "4  To fight evasion, many developing countries us...  bbksw_prodrevefficiency   \n",
       "5  This paper exploits employee-employer matched ...       salarymisreporting   \n",
       "6  The literature on optimal income taxation assu...        taxcareerconcerns   \n",
       "7  This paper investigates the role that sanitati...         kwbgn_sanitation   \n",
       "8  Measuring the performance of government agenci...            bfk_analytics   \n",
       "9                                                NaN          bcgknz_inequity   \n",
       "\n",
       "                                           paper_url  slides_url   category  \n",
       "0  http://michaelcbest.github.io/files/BestHjortS...         NaN  published  \n",
       "1  http://michaelcbest.github.io/files/BBKP_Autho...         NaN  published  \n",
       "2  http://michaelcbest.github.io/files/best-kleve...         NaN  published  \n",
       "3  http://michaelcbest.github.io/files/BCIK_Mortg...         NaN  published  \n",
       "4  http://michaelcbest.github.io/files/BestEtAl_P...         NaN  published  \n",
       "5  http://michaelcbest.github.io/files/Best_Pakis...         NaN    working  \n",
       "6  http://michaelcbest.github.io/files/best-kleve...         NaN    working  \n",
       "7  http://michaelcbest.github.io/files/KreschWalk...         NaN  published  \n",
       "8  http://michaelcbest.github.io/files/GAH-CHAPTE...         NaN     bkchap  \n",
       "9  http://michaelcbest.github.io/files/GAH-CHAPTE...         NaN        wip  "
      ]
     },
     "execution_count": 144,
     "metadata": {},
     "output_type": "execute_result"
    }
   ],
   "source": [
    "publications = pd.read_csv(\"publications.tsv\", sep=\"\\t\", header=0)\n",
    "publications\n"
   ]
  },
  {
   "cell_type": "markdown",
   "metadata": {},
   "source": [
    "## Escape special characters\n",
    "\n",
    "YAML is very picky about how it takes a valid string, so we are replacing single and double quotes (and ampersands) with their HTML encoded equivilents. This makes them look not so readable in raw format, but they are parsed and rendered nicely."
   ]
  },
  {
   "cell_type": "code",
   "execution_count": 142,
   "metadata": {
    "collapsed": true,
    "deletable": true,
    "editable": true
   },
   "outputs": [],
   "source": [
    "html_escape_table = {\n",
    "    \"&\": \"&amp;\",\n",
    "    '\"': \"&quot;\",\n",
    "    \"'\": \"&apos;\"\n",
    "    }\n",
    "\n",
    "def html_escape(text):\n",
    "    \"\"\"Produce entities within text.\"\"\"\n",
    "    return \"\".join(html_escape_table.get(c,c) for c in text)"
   ]
  },
  {
   "cell_type": "markdown",
   "metadata": {},
   "source": [
    "## Creating the markdown files\n",
    "\n",
    "This is where the heavy lifting is done. This loops through all the rows in the TSV dataframe, then starts to concatentate a big string (```md```) that contains the markdown for each type. It does the YAML metadata first, then does the description for the individual page."
   ]
  },
  {
   "cell_type": "code",
   "execution_count": 145,
   "metadata": {
    "collapsed": false,
    "deletable": true,
    "editable": true
   },
   "outputs": [],
   "source": [
    "import os\n",
    "for row, item in publications.iterrows():\n",
    "    \n",
    "    md_filename = str(item.pub_date) + \"-\" + item.url_slug + \".md\"\n",
    "    html_filename = str(item.pub_date) + \"-\" + item.url_slug\n",
    "    year = item.pub_date[:4]\n",
    "    \n",
    "    ## YAML variables\n",
    "    \n",
    "    md = \"---\\ntitle: \\\"\"   + item.title + '\"\\n'\n",
    "    \n",
    "    md += \"\"\"collection: publications\"\"\"\n",
    "\n",
    "    if len(str(item.coauthors)) > 3:\n",
    "        md += \"\"\"\\ncoauthors: \"\"\" + item.coauthors\n",
    "\n",
    "    md += \"\"\"\\ncategory: \"\"\" + item.category\n",
    "    \n",
    "    md += \"\"\"\\npermalink: /publication/\"\"\" + html_filename\n",
    "    \n",
    "    if len(str(item.excerpt)) > 5:\n",
    "        md += \"\\nexcerpt: '<details markdown=block>\" + \"\\n<summary markdown=span> *Abstract*</summary> \\n\" + html_escape(item.excerpt) + \"'\"\n",
    "    \n",
    "    md += \"\\ndate: \" + str(item.pub_date) \n",
    "    \n",
    "    if len(str(item.journal)) > 3:\n",
    "        md += \"\\njournal: '\" + str(item.journal) + \"'\"\n",
    "\n",
    "    if len(str(item.venue)) > 3:\n",
    "        md += \"\\nvenue: '\" + html_escape(item.venue) + \"'\"\n",
    "    \n",
    "    if len(str(item.slides_url)) > 5:\n",
    "        md += \"\\nslidesurl: '\" + item.slides_url + \"'\"\n",
    "\n",
    "    if len(str(item.paper_url)) > 5:\n",
    "        md += \"\\npaperurl: '\" + item.paper_url + \"'\"\n",
    "    \n",
    "    #md += \"\\ncitation: '\" + html_escape(item.citation) + \"'\"\n",
    "    \n",
    "    md += \"\\n---\"\n",
    "    \n",
    "    ## Markdown description for individual page\n",
    "\n",
    "    if len(str(item.coauthors)) > 3:\n",
    "        md += \"\\n(with \" + item.coauthors + \")\\n\"\n",
    "\n",
    "    if len(str(item.excerpt)) > 5:\n",
    "        md += \"\\n \\n\" + html_escape(item.excerpt) + \"\\n\"\n",
    "\n",
    "    if len(str(item.slides_url)) > 5:\n",
    "        md += \"\\n[Download slides here](\" + item.slides_url + \")\\n\" \n",
    "\n",
    "    if len(str(item.paper_url)) > 5:\n",
    "        md += \"\\n[Download paper here](\" + item.paper_url + \")\\n\" \n",
    "        \n",
    "    #md += \"\\nRecommended citation: \" + item.citation\n",
    "    \n",
    "    md_filename = os.path.basename(md_filename)\n",
    "       \n",
    "    with open(\"../_publications/\" + md_filename, 'w') as f:\n",
    "        f.write(md)"
   ]
  },
  {
   "cell_type": "markdown",
   "metadata": {},
   "source": [
    "These files are in the publications directory, one directory below where we're working from."
   ]
  },
  {
   "cell_type": "code",
   "execution_count": 146,
   "metadata": {
    "collapsed": false,
    "deletable": true,
    "editable": true
   },
   "outputs": [
    {
     "name": "stdout",
     "output_type": "stream",
     "text": [
      "2013-08-31-taxcareerconcerns.md       2021-08-19-bbkp_procurement.md\n",
      "2014-09-30-salarymisreporting.md      2023-01-01-kwbgn_sanitation.md\n",
      "2015-12-01-bbksw_prodrevefficiency.md 2023-07-31-bfk_analytics.md\n",
      "2017-06-24-bk_stampduty.md            2023-08-01-bhs_state_effectiveness.md\n",
      "2020-03-01-bcik_mortgagenotches.md    2024-10-01-bcgknz_inequity.md\n"
     ]
    }
   ],
   "source": [
    "!ls ../_publications/"
   ]
  },
  {
   "cell_type": "code",
   "execution_count": 147,
   "metadata": {
    "collapsed": false,
    "deletable": true,
    "editable": true
   },
   "outputs": [
    {
     "name": "stdout",
     "output_type": "stream",
     "text": [
      "cat: ../_publications/2023-08-01-paper-title-number-1.md: No such file or directory\n"
     ]
    }
   ],
   "source": [
    "!cat ../_publications/2023-08-01-paper-title-number-1.md"
   ]
  },
  {
   "cell_type": "code",
   "execution_count": null,
   "metadata": {
    "collapsed": true,
    "deletable": true,
    "editable": true
   },
   "outputs": [],
   "source": []
  }
 ],
 "metadata": {
  "kernelspec": {
   "display_name": "Python 3",
   "language": "python",
   "name": "python3"
  },
  "language_info": {
   "codemirror_mode": {
    "name": "ipython",
    "version": 3
   },
   "file_extension": ".py",
   "mimetype": "text/x-python",
   "name": "python",
   "nbconvert_exporter": "python",
   "pygments_lexer": "ipython3",
   "version": "3.9.6"
  }
 },
 "nbformat": 4,
 "nbformat_minor": 0
}
